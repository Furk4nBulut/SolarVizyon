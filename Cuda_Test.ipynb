{
 "cells": [
  {
   "cell_type": "code",
   "execution_count": 1,
   "id": "initial_id",
   "metadata": {
    "collapsed": true,
    "ExecuteTime": {
     "end_time": "2024-04-14T16:38:30.478722100Z",
     "start_time": "2024-04-14T16:37:55.229156700Z"
    }
   },
   "outputs": [
    {
     "name": "stdout",
     "output_type": "stream",
     "text": [
      "Executing op _EagerConst in device /job:localhost/replica:0/task:0/device:CPU:0\n",
      "Executing op _EagerConst in device /job:localhost/replica:0/task:0/device:CPU:0\n",
      "Executing op _EagerConst in device /job:localhost/replica:0/task:0/device:CPU:0\n",
      "Executing op RandomStandardNormal in device /job:localhost/replica:0/task:0/device:CPU:0\n",
      "Executing op Mul in device /job:localhost/replica:0/task:0/device:CPU:0\n",
      "Executing op AddV2 in device /job:localhost/replica:0/task:0/device:CPU:0\n",
      "Executing op _EagerConst in device /job:localhost/replica:0/task:0/device:CPU:0\n",
      "Executing op RandomStandardNormal in device /job:localhost/replica:0/task:0/device:CPU:0\n",
      "Executing op Mul in device /job:localhost/replica:0/task:0/device:CPU:0\n",
      "Executing op AddV2 in device /job:localhost/replica:0/task:0/device:CPU:0\n",
      "Executing op _MklMatMul in device /job:localhost/replica:0/task:0/device:CPU:0\n",
      "tf.Tensor(\n",
      "[[  59.034073    -23.236813     50.792957   ...   17.636683\n",
      "     3.8998175    26.671423  ]\n",
      " [  -6.559189    -22.728313     16.967445   ...    1.8601265\n",
      "    58.499664   -101.19737   ]\n",
      " [ -62.61637     -11.773481     14.242027   ...   -6.109668\n",
      "   -24.882591    -12.712345  ]\n",
      " ...\n",
      " [   7.3119946    16.323994     33.572533   ...   -0.9788017\n",
      "   -10.884123    -15.854437  ]\n",
      " [ -12.620858     -0.23973083   35.848576   ...   26.692236\n",
      "    -5.8654284    13.913079  ]\n",
      " [ -26.209509    -27.22401     -20.36878    ...   12.148221\n",
      "   -18.61338     -72.60759   ]], shape=(1000, 1000), dtype=float32)\n"
     ]
    }
   ],
   "source": [
    "import tensorflow as tf\n",
    "\n",
    "# TensorFlow'da varsayılan cihazı ayarlama\n",
    "tf.debugging.set_log_device_placement(True)\n",
    "\n",
    "# Matris çarpımı için rastgele veri oluşturma\n",
    "a = tf.random.normal([1000, 1000])\n",
    "b = tf.random.normal([1000, 1000])\n",
    "\n",
    "# Matris çarpımını gerçekleştirme\n",
    "c = tf.matmul(a, b)\n",
    "\n",
    "print(c)\n"
   ]
  },
  {
   "cell_type": "code",
   "execution_count": 3,
   "outputs": [
    {
     "name": "stdout",
     "output_type": "stream",
     "text": [
      "nvidia gpu bulundu\n",
      "Sun Apr 14 19:45:21 2024       \r\n",
      "+-----------------------------------------------------------------------------------------+\r\n",
      "| NVIDIA-SMI 552.12                 Driver Version: 552.12         CUDA Version: 12.4     |\r\n",
      "|-----------------------------------------+------------------------+----------------------+\r\n",
      "| GPU  Name                     TCC/WDDM  | Bus-Id          Disp.A | Volatile Uncorr. ECC |\r\n",
      "| Fan  Temp   Perf          Pwr:Usage/Cap |           Memory-Usage | GPU-Util  Compute M. |\r\n",
      "|                                         |                        |               MIG M. |\r\n",
      "|=========================================+========================+======================|\r\n",
      "|   0  NVIDIA GeForce RTX 3050 ...  WDDM  |   00000000:01:00.0 Off |                  N/A |\r\n",
      "| N/A   51C    P8              6W /   60W |       0MiB /   4096MiB |      0%      Default |\r\n",
      "|                                         |                        |                  N/A |\r\n",
      "+-----------------------------------------+------------------------+----------------------+\r\n",
      "                                                                                         \r\n",
      "+-----------------------------------------------------------------------------------------+\r\n",
      "| Processes:                                                                              |\r\n",
      "|  GPU   GI   CI        PID   Type   Process name                              GPU Memory |\r\n",
      "|        ID   ID                                                               Usage      |\r\n",
      "|=========================================================================================|\r\n",
      "|    0   N/A  N/A      1784    C+G   ...2txyewy\\StartMenuExperienceHost.exe      N/A      |\r\n",
      "|    0   N/A  N/A      3292    C+G   ...on\\123.0.2420.97\\msedgewebview2.exe      N/A      |\r\n",
      "|    0   N/A  N/A     12116    C+G   ...CBS_cw5n1h2txyewy\\TextInputHost.exe      N/A      |\r\n",
      "|    0   N/A  N/A     16456    C+G   ...nt.CBS_cw5n1h2txyewy\\SearchHost.exe      N/A      |\r\n",
      "+-----------------------------------------------------------------------------------------+\r\n"
     ]
    }
   ],
   "source": [
    "import subprocess\n",
    "\n",
    "def check_gpu():\n",
    "    try:\n",
    "        result = subprocess.check_output(['nvidia-smi'])\n",
    "        return result.decode('utf-8')\n",
    "    except FileNotFoundError:\n",
    "        # nvidia-smi yüklenmemişse\n",
    "        return \"NVIDIA GPU bulunamadı.\"\n",
    "\n",
    "# GPU'nun durumunu kontrol et\n",
    "print(check_gpu())\n"
   ],
   "metadata": {
    "collapsed": false,
    "ExecuteTime": {
     "end_time": "2024-04-14T16:45:21.844179900Z",
     "start_time": "2024-04-14T16:45:21.755319600Z"
    }
   },
   "id": "1b8fdb4ae869f60"
  },
  {
   "cell_type": "code",
   "execution_count": 8,
   "outputs": [
    {
     "name": "stdout",
     "output_type": "stream",
     "text": [
      "CUDA bulunamadı, CPU kullanılıyor.\n"
     ]
    }
   ],
   "source": [
    "import torch\n",
    "\n",
    "def enable_gpu():\n",
    "    if torch.cuda.is_available():\n",
    "        # CUDA mevcutsa GPU'yu kullan\n",
    "        device = torch.device(\"cuda\")\n",
    "        print(\"GPU kullanılıyor:\", torch.cuda.get_device_name(0))\n",
    "    else:\n",
    "        # CUDA mevcut değilse CPU'yu kullan\n",
    "        device = torch.device(\"cpu\")\n",
    "        print(\"CUDA bulunamadı, CPU kullanılıyor.\")\n",
    "    return device\n",
    "\n",
    "# GPU'yu etkinleştir\n",
    "device = enable_gpu()\n"
   ],
   "metadata": {
    "collapsed": false,
    "ExecuteTime": {
     "end_time": "2024-04-14T16:51:08.619748200Z",
     "start_time": "2024-04-14T16:51:08.611121Z"
    }
   },
   "id": "45c952264f829484"
  },
  {
   "cell_type": "code",
   "execution_count": 9,
   "outputs": [
    {
     "name": "stdout",
     "output_type": "stream",
     "text": [
      "CUDA bulunamadı, CPU kullanılıyor.\n"
     ]
    }
   ],
   "source": [
    "import tensorflow as tf\n",
    "\n",
    "def enable_gpu():\n",
    "    # TensorFlow'un CUDA mevcut olup olmadığını kontrol etme\n",
    "    if tf.test.is_gpu_available():\n",
    "        # GPU mevcutsa TensorFlow'u GPU modunda çalıştır\n",
    "        physical_devices = tf.config.list_physical_devices('GPU') \n",
    "        tf.config.experimental.set_memory_growth(physical_devices[0], True)\n",
    "        print(\"GPU kullanılıyor:\", physical_devices[0].name)\n",
    "    else:\n",
    "        print(\"CUDA bulunamadı, CPU kullanılıyor.\")\n",
    "\n",
    "# GPU'yu etkinleştir\n",
    "enable_gpu()\n"
   ],
   "metadata": {
    "collapsed": false,
    "ExecuteTime": {
     "end_time": "2024-04-14T16:51:09.250559800Z",
     "start_time": "2024-04-14T16:51:09.244391100Z"
    }
   },
   "id": "1963fd905ffe04c"
  },
  {
   "cell_type": "code",
   "execution_count": null,
   "outputs": [],
   "source": [],
   "metadata": {
    "collapsed": false
   },
   "id": "718ee6a6aee388aa"
  }
 ],
 "metadata": {
  "kernelspec": {
   "display_name": "Python 3",
   "language": "python",
   "name": "python3"
  },
  "language_info": {
   "codemirror_mode": {
    "name": "ipython",
    "version": 2
   },
   "file_extension": ".py",
   "mimetype": "text/x-python",
   "name": "python",
   "nbconvert_exporter": "python",
   "pygments_lexer": "ipython2",
   "version": "2.7.6"
  }
 },
 "nbformat": 4,
 "nbformat_minor": 5
}
