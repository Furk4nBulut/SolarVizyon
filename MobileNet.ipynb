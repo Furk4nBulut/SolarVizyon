{
 "cells": [
  {
   "cell_type": "code",
   "execution_count": 29,
   "id": "initial_id",
   "metadata": {
    "collapsed": true,
    "ExecuteTime": {
     "end_time": "2024-04-09T16:36:18.051398100Z",
     "start_time": "2024-04-09T16:36:15.632896Z"
    }
   },
   "outputs": [],
   "source": [
    "import tensorflow as tf\n",
    "import numpy as np \n",
    "from PIL import Image\n",
    "\n",
    "model = tf.saved_model.load('C:/Users/FurkanBulut/PycharmProjects/SolarVizyon/datasets/MobileNet')\n",
    "classes = [ \"clean\" ,  \"dirty\" , ]"
   ]
  },
  {
   "cell_type": "code",
   "execution_count": 30,
   "outputs": [
    {
     "data": {
      "text/plain": "['C:/Users/FurkanBulut/PycharmProjects/SolarVizyon/datasets/solar-panel-dust-detection/train\\\\clean\\\\20210917_151202_5f21c614b94d4d2bb45074d93071a79f.jpg',\n 'C:/Users/FurkanBulut/PycharmProjects/SolarVizyon/datasets/solar-panel-dust-detection/train\\\\clean\\\\20210917_151218(0)_8860c635d081445a93d57388517f5067.jpg',\n 'C:/Users/FurkanBulut/PycharmProjects/SolarVizyon/datasets/solar-panel-dust-detection/train\\\\clean\\\\20210917_151218_461ac3e0b0b44cab80ff074fae189802.jpg',\n 'C:/Users/FurkanBulut/PycharmProjects/SolarVizyon/datasets/solar-panel-dust-detection/train\\\\clean\\\\20210917_151224_3_11zon_37_11zon_29_11zon_26_11zon_9ed022aae2734369bcb547e8809a93c1.jpg',\n 'C:/Users/FurkanBulut/PycharmProjects/SolarVizyon/datasets/solar-panel-dust-detection/train\\\\clean\\\\20210917_151230_2de828b6c2ae4ff994fefbea0404ab19.jpg']"
     },
     "execution_count": 30,
     "metadata": {},
     "output_type": "execute_result"
    }
   ],
   "source": [
    "Id=[]\n",
    "import numpy as np # linear algebra\n",
    "import pandas as pd # data processing, CSV file I/O (e.g. pd.read_csv)\n",
    "\n",
    "# Input data files are available in the read-only \"../input/\" directory\n",
    "# For example, running this (by clicking run or pressing Shift+Enter) will list all files under the input directory\n",
    "\n",
    "import os\n",
    "for dirname, _, filenames in os.walk('C:/Users/FurkanBulut/PycharmProjects/SolarVizyon/datasets/solar-panel-dust-detection/train'):\n",
    "    for filename in filenames:\n",
    "        Id.append(os.path.join(dirname, filename))\n",
    "Id[:5]"
   ],
   "metadata": {
    "collapsed": false,
    "ExecuteTime": {
     "end_time": "2024-04-09T16:36:18.815624Z",
     "start_time": "2024-04-09T16:36:18.804745700Z"
    }
   },
   "id": "b53608a41109901b"
  },
  {
   "cell_type": "code",
   "execution_count": 31,
   "outputs": [
    {
     "data": {
      "text/plain": "                                            filename\n0  C:/Users/FurkanBulut/PycharmProjects/SolarVizy...\n1  C:/Users/FurkanBulut/PycharmProjects/SolarVizy...\n2  C:/Users/FurkanBulut/PycharmProjects/SolarVizy...\n3  C:/Users/FurkanBulut/PycharmProjects/SolarVizy...\n4  C:/Users/FurkanBulut/PycharmProjects/SolarVizy...",
      "text/html": "<div>\n<style scoped>\n    .dataframe tbody tr th:only-of-type {\n        vertical-align: middle;\n    }\n\n    .dataframe tbody tr th {\n        vertical-align: top;\n    }\n\n    .dataframe thead th {\n        text-align: right;\n    }\n</style>\n<table border=\"1\" class=\"dataframe\">\n  <thead>\n    <tr style=\"text-align: right;\">\n      <th></th>\n      <th>filename</th>\n    </tr>\n  </thead>\n  <tbody>\n    <tr>\n      <th>0</th>\n      <td>C:/Users/FurkanBulut/PycharmProjects/SolarVizy...</td>\n    </tr>\n    <tr>\n      <th>1</th>\n      <td>C:/Users/FurkanBulut/PycharmProjects/SolarVizy...</td>\n    </tr>\n    <tr>\n      <th>2</th>\n      <td>C:/Users/FurkanBulut/PycharmProjects/SolarVizy...</td>\n    </tr>\n    <tr>\n      <th>3</th>\n      <td>C:/Users/FurkanBulut/PycharmProjects/SolarVizy...</td>\n    </tr>\n    <tr>\n      <th>4</th>\n      <td>C:/Users/FurkanBulut/PycharmProjects/SolarVizy...</td>\n    </tr>\n  </tbody>\n</table>\n</div>"
     },
     "execution_count": 31,
     "metadata": {},
     "output_type": "execute_result"
    }
   ],
   "source": [
    "train=pd.DataFrame()\n",
    "train=train.assign(filename=Id)\n",
    "train.head()"
   ],
   "metadata": {
    "collapsed": false,
    "ExecuteTime": {
     "end_time": "2024-04-09T16:36:19.607990800Z",
     "start_time": "2024-04-09T16:36:19.603418600Z"
    }
   },
   "id": "6c5d848cc698921e"
  },
  {
   "cell_type": "code",
   "execution_count": 32,
   "outputs": [
    {
     "data": {
      "text/plain": "                                            filename  \\\n0  C:/Users/FurkanBulut/PycharmProjects/SolarVizy...   \n1  C:/Users/FurkanBulut/PycharmProjects/SolarVizy...   \n2  C:/Users/FurkanBulut/PycharmProjects/SolarVizy...   \n3  C:/Users/FurkanBulut/PycharmProjects/SolarVizy...   \n4  C:/Users/FurkanBulut/PycharmProjects/SolarVizy...   \n\n                                               label  \n0  C:/Users/FurkanBulut/PycharmProjects/SolarVizy...  \n1  C:/Users/FurkanBulut/PycharmProjects/SolarVizy...  \n2  C:/Users/FurkanBulut/PycharmProjects/SolarVizy...  \n3  C:/Users/FurkanBulut/PycharmProjects/SolarVizy...  \n4  C:/Users/FurkanBulut/PycharmProjects/SolarVizy...  ",
      "text/html": "<div>\n<style scoped>\n    .dataframe tbody tr th:only-of-type {\n        vertical-align: middle;\n    }\n\n    .dataframe tbody tr th {\n        vertical-align: top;\n    }\n\n    .dataframe thead th {\n        text-align: right;\n    }\n</style>\n<table border=\"1\" class=\"dataframe\">\n  <thead>\n    <tr style=\"text-align: right;\">\n      <th></th>\n      <th>filename</th>\n      <th>label</th>\n    </tr>\n  </thead>\n  <tbody>\n    <tr>\n      <th>0</th>\n      <td>C:/Users/FurkanBulut/PycharmProjects/SolarVizy...</td>\n      <td>C:/Users/FurkanBulut/PycharmProjects/SolarVizy...</td>\n    </tr>\n    <tr>\n      <th>1</th>\n      <td>C:/Users/FurkanBulut/PycharmProjects/SolarVizy...</td>\n      <td>C:/Users/FurkanBulut/PycharmProjects/SolarVizy...</td>\n    </tr>\n    <tr>\n      <th>2</th>\n      <td>C:/Users/FurkanBulut/PycharmProjects/SolarVizy...</td>\n      <td>C:/Users/FurkanBulut/PycharmProjects/SolarVizy...</td>\n    </tr>\n    <tr>\n      <th>3</th>\n      <td>C:/Users/FurkanBulut/PycharmProjects/SolarVizy...</td>\n      <td>C:/Users/FurkanBulut/PycharmProjects/SolarVizy...</td>\n    </tr>\n    <tr>\n      <th>4</th>\n      <td>C:/Users/FurkanBulut/PycharmProjects/SolarVizy...</td>\n      <td>C:/Users/FurkanBulut/PycharmProjects/SolarVizy...</td>\n    </tr>\n  </tbody>\n</table>\n</div>"
     },
     "execution_count": 32,
     "metadata": {},
     "output_type": "execute_result"
    }
   ],
   "source": [
    "train['label']=train['filename']\n",
    "train['label']=train['label'].str.replace('C:/Users/FurkanBulut/PycharmProjects/SolarVizyon/datasets/solar-panel-dust-detection/train/','')\n",
    "train.head()"
   ],
   "metadata": {
    "collapsed": false,
    "ExecuteTime": {
     "end_time": "2024-04-09T16:36:20.224843100Z",
     "start_time": "2024-04-09T16:36:20.222160800Z"
    }
   },
   "id": "564b209dbf8a04b5"
  },
  {
   "cell_type": "code",
   "execution_count": 33,
   "outputs": [
    {
     "data": {
      "text/plain": "                                            filename label\n0  C:/Users/FurkanBulut/PycharmProjects/SolarVizy...    C:\n1  C:/Users/FurkanBulut/PycharmProjects/SolarVizy...    C:\n2  C:/Users/FurkanBulut/PycharmProjects/SolarVizy...    C:\n3  C:/Users/FurkanBulut/PycharmProjects/SolarVizy...    C:\n4  C:/Users/FurkanBulut/PycharmProjects/SolarVizy...    C:",
      "text/html": "<div>\n<style scoped>\n    .dataframe tbody tr th:only-of-type {\n        vertical-align: middle;\n    }\n\n    .dataframe tbody tr th {\n        vertical-align: top;\n    }\n\n    .dataframe thead th {\n        text-align: right;\n    }\n</style>\n<table border=\"1\" class=\"dataframe\">\n  <thead>\n    <tr style=\"text-align: right;\">\n      <th></th>\n      <th>filename</th>\n      <th>label</th>\n    </tr>\n  </thead>\n  <tbody>\n    <tr>\n      <th>0</th>\n      <td>C:/Users/FurkanBulut/PycharmProjects/SolarVizy...</td>\n      <td>C:</td>\n    </tr>\n    <tr>\n      <th>1</th>\n      <td>C:/Users/FurkanBulut/PycharmProjects/SolarVizy...</td>\n      <td>C:</td>\n    </tr>\n    <tr>\n      <th>2</th>\n      <td>C:/Users/FurkanBulut/PycharmProjects/SolarVizy...</td>\n      <td>C:</td>\n    </tr>\n    <tr>\n      <th>3</th>\n      <td>C:/Users/FurkanBulut/PycharmProjects/SolarVizy...</td>\n      <td>C:</td>\n    </tr>\n    <tr>\n      <th>4</th>\n      <td>C:/Users/FurkanBulut/PycharmProjects/SolarVizy...</td>\n      <td>C:</td>\n    </tr>\n  </tbody>\n</table>\n</div>"
     },
     "execution_count": 33,
     "metadata": {},
     "output_type": "execute_result"
    }
   ],
   "source": [
    "train['label'] = train['label'].str.split('/').str[0]\n",
    "train.head()"
   ],
   "metadata": {
    "collapsed": false,
    "ExecuteTime": {
     "end_time": "2024-04-09T16:36:20.842527Z",
     "start_time": "2024-04-09T16:36:20.824877200Z"
    }
   },
   "id": "8c1632b28b1660f"
  },
  {
   "cell_type": "code",
   "execution_count": 34,
   "outputs": [
    {
     "data": {
      "text/plain": "['C:/Users/FurkanBulut/PycharmProjects/SolarVizyon/datasets/solar-panel-dust-detection/test\\\\clean\\\\20210917_151224_5911f35e35c74a8c94f54c0c936f5dbb.jpg',\n 'C:/Users/FurkanBulut/PycharmProjects/SolarVizyon/datasets/solar-panel-dust-detection/test\\\\clean\\\\20210917_151251_0362eb0424ec46b3b9dc6a9dd22c02a3.jpg',\n 'C:/Users/FurkanBulut/PycharmProjects/SolarVizyon/datasets/solar-panel-dust-detection/test\\\\clean\\\\20210917_151349_0ef00d79ba424a238fb98ef26f2159d5.jpg',\n 'C:/Users/FurkanBulut/PycharmProjects/SolarVizyon/datasets/solar-panel-dust-detection/test\\\\clean\\\\20210917_151349_11_11zon_42_11zon_7af4a250755745f69fb3b22a599bcb46.jpg',\n 'C:/Users/FurkanBulut/PycharmProjects/SolarVizyon/datasets/solar-panel-dust-detection/test\\\\clean\\\\20210917_151407_7dfb7bb688e8471ebadbc0425fb99541.jpg']"
     },
     "execution_count": 34,
     "metadata": {},
     "output_type": "execute_result"
    }
   ],
   "source": [
    "Id=[]\n",
    "import numpy as np # linear algebra\n",
    "import pandas as pd # data processing, CSV file I/O (e.g. pd.read_csv)\n",
    "\n",
    "# Input data files are available in the read-only \"../input/\" directory\n",
    "# For example, running this (by clicking run or pressing Shift+Enter) will list all files under the input directory\n",
    "\n",
    "import os\n",
    "for dirname, _, filenames in os.walk('C:/Users/FurkanBulut/PycharmProjects/SolarVizyon/datasets/solar-panel-dust-detection/test'):\n",
    "    for filename in filenames:\n",
    "        Id.append(os.path.join(dirname, filename))\n",
    "Id[:5]"
   ],
   "metadata": {
    "collapsed": false,
    "ExecuteTime": {
     "end_time": "2024-04-09T16:36:21.696317100Z",
     "start_time": "2024-04-09T16:36:21.683651200Z"
    }
   },
   "id": "7b07e89d25a20775"
  },
  {
   "cell_type": "code",
   "execution_count": 35,
   "outputs": [
    {
     "data": {
      "text/plain": "                                            filename\n0  C:/Users/FurkanBulut/PycharmProjects/SolarVizy...\n1  C:/Users/FurkanBulut/PycharmProjects/SolarVizy...\n2  C:/Users/FurkanBulut/PycharmProjects/SolarVizy...\n3  C:/Users/FurkanBulut/PycharmProjects/SolarVizy...\n4  C:/Users/FurkanBulut/PycharmProjects/SolarVizy...",
      "text/html": "<div>\n<style scoped>\n    .dataframe tbody tr th:only-of-type {\n        vertical-align: middle;\n    }\n\n    .dataframe tbody tr th {\n        vertical-align: top;\n    }\n\n    .dataframe thead th {\n        text-align: right;\n    }\n</style>\n<table border=\"1\" class=\"dataframe\">\n  <thead>\n    <tr style=\"text-align: right;\">\n      <th></th>\n      <th>filename</th>\n    </tr>\n  </thead>\n  <tbody>\n    <tr>\n      <th>0</th>\n      <td>C:/Users/FurkanBulut/PycharmProjects/SolarVizy...</td>\n    </tr>\n    <tr>\n      <th>1</th>\n      <td>C:/Users/FurkanBulut/PycharmProjects/SolarVizy...</td>\n    </tr>\n    <tr>\n      <th>2</th>\n      <td>C:/Users/FurkanBulut/PycharmProjects/SolarVizy...</td>\n    </tr>\n    <tr>\n      <th>3</th>\n      <td>C:/Users/FurkanBulut/PycharmProjects/SolarVizy...</td>\n    </tr>\n    <tr>\n      <th>4</th>\n      <td>C:/Users/FurkanBulut/PycharmProjects/SolarVizy...</td>\n    </tr>\n  </tbody>\n</table>\n</div>"
     },
     "execution_count": 35,
     "metadata": {},
     "output_type": "execute_result"
    }
   ],
   "source": [
    "test=pd.DataFrame()\n",
    "test=test.assign(filename=Id)\n",
    "test.head()"
   ],
   "metadata": {
    "collapsed": false,
    "ExecuteTime": {
     "end_time": "2024-04-09T16:36:22.352212Z",
     "start_time": "2024-04-09T16:36:22.345915500Z"
    }
   },
   "id": "3c3963767a65d00e"
  },
  {
   "cell_type": "code",
   "execution_count": 36,
   "outputs": [
    {
     "data": {
      "text/plain": "                                            filename  \\\n0  C:/Users/FurkanBulut/PycharmProjects/SolarVizy...   \n1  C:/Users/FurkanBulut/PycharmProjects/SolarVizy...   \n2  C:/Users/FurkanBulut/PycharmProjects/SolarVizy...   \n3  C:/Users/FurkanBulut/PycharmProjects/SolarVizy...   \n4  C:/Users/FurkanBulut/PycharmProjects/SolarVizy...   \n\n                                               label  \n0  C:/Users/FurkanBulut/PycharmProjects/SolarVizy...  \n1  C:/Users/FurkanBulut/PycharmProjects/SolarVizy...  \n2  C:/Users/FurkanBulut/PycharmProjects/SolarVizy...  \n3  C:/Users/FurkanBulut/PycharmProjects/SolarVizy...  \n4  C:/Users/FurkanBulut/PycharmProjects/SolarVizy...  ",
      "text/html": "<div>\n<style scoped>\n    .dataframe tbody tr th:only-of-type {\n        vertical-align: middle;\n    }\n\n    .dataframe tbody tr th {\n        vertical-align: top;\n    }\n\n    .dataframe thead th {\n        text-align: right;\n    }\n</style>\n<table border=\"1\" class=\"dataframe\">\n  <thead>\n    <tr style=\"text-align: right;\">\n      <th></th>\n      <th>filename</th>\n      <th>label</th>\n    </tr>\n  </thead>\n  <tbody>\n    <tr>\n      <th>0</th>\n      <td>C:/Users/FurkanBulut/PycharmProjects/SolarVizy...</td>\n      <td>C:/Users/FurkanBulut/PycharmProjects/SolarVizy...</td>\n    </tr>\n    <tr>\n      <th>1</th>\n      <td>C:/Users/FurkanBulut/PycharmProjects/SolarVizy...</td>\n      <td>C:/Users/FurkanBulut/PycharmProjects/SolarVizy...</td>\n    </tr>\n    <tr>\n      <th>2</th>\n      <td>C:/Users/FurkanBulut/PycharmProjects/SolarVizy...</td>\n      <td>C:/Users/FurkanBulut/PycharmProjects/SolarVizy...</td>\n    </tr>\n    <tr>\n      <th>3</th>\n      <td>C:/Users/FurkanBulut/PycharmProjects/SolarVizy...</td>\n      <td>C:/Users/FurkanBulut/PycharmProjects/SolarVizy...</td>\n    </tr>\n    <tr>\n      <th>4</th>\n      <td>C:/Users/FurkanBulut/PycharmProjects/SolarVizy...</td>\n      <td>C:/Users/FurkanBulut/PycharmProjects/SolarVizy...</td>\n    </tr>\n  </tbody>\n</table>\n</div>"
     },
     "execution_count": 36,
     "metadata": {},
     "output_type": "execute_result"
    }
   ],
   "source": [
    "test['label']=test['filename']\n",
    "test['label']=test['label'].str.replace('C:/Users/FurkanBulut/PycharmProjects/SolarVizyon/datasets/solar-panel-dust-detection/test/','')\n",
    "test.head()"
   ],
   "metadata": {
    "collapsed": false,
    "ExecuteTime": {
     "end_time": "2024-04-09T16:36:23.022945700Z",
     "start_time": "2024-04-09T16:36:23.016371Z"
    }
   },
   "id": "5215aae1d4ca1e82"
  },
  {
   "cell_type": "code",
   "execution_count": 37,
   "outputs": [
    {
     "data": {
      "text/plain": "                                            filename label\n0  C:/Users/FurkanBulut/PycharmProjects/SolarVizy...    C:\n1  C:/Users/FurkanBulut/PycharmProjects/SolarVizy...    C:\n2  C:/Users/FurkanBulut/PycharmProjects/SolarVizy...    C:\n3  C:/Users/FurkanBulut/PycharmProjects/SolarVizy...    C:\n4  C:/Users/FurkanBulut/PycharmProjects/SolarVizy...    C:",
      "text/html": "<div>\n<style scoped>\n    .dataframe tbody tr th:only-of-type {\n        vertical-align: middle;\n    }\n\n    .dataframe tbody tr th {\n        vertical-align: top;\n    }\n\n    .dataframe thead th {\n        text-align: right;\n    }\n</style>\n<table border=\"1\" class=\"dataframe\">\n  <thead>\n    <tr style=\"text-align: right;\">\n      <th></th>\n      <th>filename</th>\n      <th>label</th>\n    </tr>\n  </thead>\n  <tbody>\n    <tr>\n      <th>0</th>\n      <td>C:/Users/FurkanBulut/PycharmProjects/SolarVizy...</td>\n      <td>C:</td>\n    </tr>\n    <tr>\n      <th>1</th>\n      <td>C:/Users/FurkanBulut/PycharmProjects/SolarVizy...</td>\n      <td>C:</td>\n    </tr>\n    <tr>\n      <th>2</th>\n      <td>C:/Users/FurkanBulut/PycharmProjects/SolarVizy...</td>\n      <td>C:</td>\n    </tr>\n    <tr>\n      <th>3</th>\n      <td>C:/Users/FurkanBulut/PycharmProjects/SolarVizy...</td>\n      <td>C:</td>\n    </tr>\n    <tr>\n      <th>4</th>\n      <td>C:/Users/FurkanBulut/PycharmProjects/SolarVizy...</td>\n      <td>C:</td>\n    </tr>\n  </tbody>\n</table>\n</div>"
     },
     "execution_count": 37,
     "metadata": {},
     "output_type": "execute_result"
    }
   ],
   "source": [
    "test['label'] = test['label'].str.split('/').str[0]\n",
    "test.head()"
   ],
   "metadata": {
    "collapsed": false,
    "ExecuteTime": {
     "end_time": "2024-04-09T16:36:23.559852300Z",
     "start_time": "2024-04-09T16:36:23.556846100Z"
    }
   },
   "id": "1eb968a630782fc0"
  },
  {
   "cell_type": "code",
   "execution_count": 40,
   "outputs": [
    {
     "data": {
      "text/plain": "['clean', 'clean', 'clean', 'clean', 'clean']"
     },
     "execution_count": 40,
     "metadata": {},
     "output_type": "execute_result"
    }
   ],
   "source": [
    "result=[]\n",
    "for i in test.filename:\n",
    "    img = Image.open(i).convert('RGB')\n",
    "    img = img.resize((300, 300 * img.size[1] // img.size[0]), Image.ANTIALIAS)\n",
    "    inp_numpy = np.array(img)[None]\n",
    "    inp = tf.constant(inp_numpy, dtype='float32')\n",
    "    class_scores = model(inp)[0].numpy()\n",
    "    result.append(classes[class_scores.argmax()])\n",
    "result[:5]"
   ],
   "metadata": {
    "collapsed": false,
    "ExecuteTime": {
     "end_time": "2024-04-09T16:37:03.507639400Z",
     "start_time": "2024-04-09T16:36:59.945199500Z"
    }
   },
   "id": "9773934077d2408f"
  },
  {
   "cell_type": "code",
   "execution_count": 41,
   "outputs": [
    {
     "data": {
      "text/plain": "                                            filename label prediction\n0  C:/Users/FurkanBulut/PycharmProjects/SolarVizy...    C:      clean\n1  C:/Users/FurkanBulut/PycharmProjects/SolarVizy...    C:      clean\n2  C:/Users/FurkanBulut/PycharmProjects/SolarVizy...    C:      clean\n3  C:/Users/FurkanBulut/PycharmProjects/SolarVizy...    C:      clean\n4  C:/Users/FurkanBulut/PycharmProjects/SolarVizy...    C:      clean",
      "text/html": "<div>\n<style scoped>\n    .dataframe tbody tr th:only-of-type {\n        vertical-align: middle;\n    }\n\n    .dataframe tbody tr th {\n        vertical-align: top;\n    }\n\n    .dataframe thead th {\n        text-align: right;\n    }\n</style>\n<table border=\"1\" class=\"dataframe\">\n  <thead>\n    <tr style=\"text-align: right;\">\n      <th></th>\n      <th>filename</th>\n      <th>label</th>\n      <th>prediction</th>\n    </tr>\n  </thead>\n  <tbody>\n    <tr>\n      <th>0</th>\n      <td>C:/Users/FurkanBulut/PycharmProjects/SolarVizy...</td>\n      <td>C:</td>\n      <td>clean</td>\n    </tr>\n    <tr>\n      <th>1</th>\n      <td>C:/Users/FurkanBulut/PycharmProjects/SolarVizy...</td>\n      <td>C:</td>\n      <td>clean</td>\n    </tr>\n    <tr>\n      <th>2</th>\n      <td>C:/Users/FurkanBulut/PycharmProjects/SolarVizy...</td>\n      <td>C:</td>\n      <td>clean</td>\n    </tr>\n    <tr>\n      <th>3</th>\n      <td>C:/Users/FurkanBulut/PycharmProjects/SolarVizy...</td>\n      <td>C:</td>\n      <td>clean</td>\n    </tr>\n    <tr>\n      <th>4</th>\n      <td>C:/Users/FurkanBulut/PycharmProjects/SolarVizy...</td>\n      <td>C:</td>\n      <td>clean</td>\n    </tr>\n  </tbody>\n</table>\n</div>"
     },
     "execution_count": 41,
     "metadata": {},
     "output_type": "execute_result"
    }
   ],
   "source": [
    "test=test.assign(prediction=result)\n",
    "test.head()"
   ],
   "metadata": {
    "collapsed": false,
    "ExecuteTime": {
     "end_time": "2024-04-09T16:37:06.858245600Z",
     "start_time": "2024-04-09T16:37:06.848981800Z"
    }
   },
   "id": "382255e0bc31aefe"
  },
  {
   "cell_type": "code",
   "execution_count": 42,
   "outputs": [
    {
     "data": {
      "text/plain": "['clean', 'clean', 'clean', 'clean', 'clean']"
     },
     "execution_count": 42,
     "metadata": {},
     "output_type": "execute_result"
    }
   ],
   "source": [
    "result=[]\n",
    "for i in train.filename:\n",
    "    img = Image.open(i).convert('RGB')\n",
    "    img = img.resize((300, 300 * img.size[1] // img.size[0]), Image.ANTIALIAS)\n",
    "    inp_numpy = np.array(img)[None]\n",
    "    inp = tf.constant(inp_numpy, dtype='float32')\n",
    "    class_scores = model(inp)[0].numpy()\n",
    "    result.append(classes[class_scores.argmax()])\n",
    "result[:5]"
   ],
   "metadata": {
    "collapsed": false,
    "ExecuteTime": {
     "end_time": "2024-04-09T16:37:24.941427500Z",
     "start_time": "2024-04-09T16:37:12.335510400Z"
    }
   },
   "id": "b717affbdcf0565a"
  },
  {
   "cell_type": "code",
   "execution_count": 43,
   "outputs": [
    {
     "data": {
      "text/plain": "                                            filename label prediction\n0  C:/Users/FurkanBulut/PycharmProjects/SolarVizy...    C:      clean\n1  C:/Users/FurkanBulut/PycharmProjects/SolarVizy...    C:      clean\n2  C:/Users/FurkanBulut/PycharmProjects/SolarVizy...    C:      clean\n3  C:/Users/FurkanBulut/PycharmProjects/SolarVizy...    C:      clean\n4  C:/Users/FurkanBulut/PycharmProjects/SolarVizy...    C:      clean",
      "text/html": "<div>\n<style scoped>\n    .dataframe tbody tr th:only-of-type {\n        vertical-align: middle;\n    }\n\n    .dataframe tbody tr th {\n        vertical-align: top;\n    }\n\n    .dataframe thead th {\n        text-align: right;\n    }\n</style>\n<table border=\"1\" class=\"dataframe\">\n  <thead>\n    <tr style=\"text-align: right;\">\n      <th></th>\n      <th>filename</th>\n      <th>label</th>\n      <th>prediction</th>\n    </tr>\n  </thead>\n  <tbody>\n    <tr>\n      <th>0</th>\n      <td>C:/Users/FurkanBulut/PycharmProjects/SolarVizy...</td>\n      <td>C:</td>\n      <td>clean</td>\n    </tr>\n    <tr>\n      <th>1</th>\n      <td>C:/Users/FurkanBulut/PycharmProjects/SolarVizy...</td>\n      <td>C:</td>\n      <td>clean</td>\n    </tr>\n    <tr>\n      <th>2</th>\n      <td>C:/Users/FurkanBulut/PycharmProjects/SolarVizy...</td>\n      <td>C:</td>\n      <td>clean</td>\n    </tr>\n    <tr>\n      <th>3</th>\n      <td>C:/Users/FurkanBulut/PycharmProjects/SolarVizy...</td>\n      <td>C:</td>\n      <td>clean</td>\n    </tr>\n    <tr>\n      <th>4</th>\n      <td>C:/Users/FurkanBulut/PycharmProjects/SolarVizy...</td>\n      <td>C:</td>\n      <td>clean</td>\n    </tr>\n  </tbody>\n</table>\n</div>"
     },
     "execution_count": 43,
     "metadata": {},
     "output_type": "execute_result"
    }
   ],
   "source": [
    "train=train.assign(prediction=result)\n",
    "train.head()"
   ],
   "metadata": {
    "collapsed": false,
    "ExecuteTime": {
     "end_time": "2024-04-09T16:37:30.709940200Z",
     "start_time": "2024-04-09T16:37:30.701893400Z"
    }
   },
   "id": "dd751f57be02b081"
  },
  {
   "cell_type": "code",
   "execution_count": 44,
   "outputs": [
    {
     "name": "stdout",
     "output_type": "stream",
     "text": [
      "              precision    recall  f1-score   support\n",
      "\n",
      "          C:       0.00      0.00      0.00     673.0\n",
      "       clean       0.00      0.00      0.00       0.0\n",
      "       dirty       0.00      0.00      0.00       0.0\n",
      "\n",
      "    accuracy                           0.00     673.0\n",
      "   macro avg       0.00      0.00      0.00     673.0\n",
      "weighted avg       0.00      0.00      0.00     673.0\n"
     ]
    },
    {
     "name": "stderr",
     "output_type": "stream",
     "text": [
      "C:\\Users\\FurkanBulut\\anaconda3\\envs\\SolarVizyon\\Lib\\site-packages\\sklearn\\metrics\\_classification.py:1509: UndefinedMetricWarning: Precision is ill-defined and being set to 0.0 in labels with no predicted samples. Use `zero_division` parameter to control this behavior.\n",
      "  _warn_prf(average, modifier, f\"{metric.capitalize()} is\", len(result))\n",
      "C:\\Users\\FurkanBulut\\anaconda3\\envs\\SolarVizyon\\Lib\\site-packages\\sklearn\\metrics\\_classification.py:1509: UndefinedMetricWarning: Recall is ill-defined and being set to 0.0 in labels with no true samples. Use `zero_division` parameter to control this behavior.\n",
      "  _warn_prf(average, modifier, f\"{metric.capitalize()} is\", len(result))\n",
      "C:\\Users\\FurkanBulut\\anaconda3\\envs\\SolarVizyon\\Lib\\site-packages\\sklearn\\metrics\\_classification.py:1509: UndefinedMetricWarning: Precision is ill-defined and being set to 0.0 in labels with no predicted samples. Use `zero_division` parameter to control this behavior.\n",
      "  _warn_prf(average, modifier, f\"{metric.capitalize()} is\", len(result))\n",
      "C:\\Users\\FurkanBulut\\anaconda3\\envs\\SolarVizyon\\Lib\\site-packages\\sklearn\\metrics\\_classification.py:1509: UndefinedMetricWarning: Recall is ill-defined and being set to 0.0 in labels with no true samples. Use `zero_division` parameter to control this behavior.\n",
      "  _warn_prf(average, modifier, f\"{metric.capitalize()} is\", len(result))\n",
      "C:\\Users\\FurkanBulut\\anaconda3\\envs\\SolarVizyon\\Lib\\site-packages\\sklearn\\metrics\\_classification.py:1509: UndefinedMetricWarning: Precision is ill-defined and being set to 0.0 in labels with no predicted samples. Use `zero_division` parameter to control this behavior.\n",
      "  _warn_prf(average, modifier, f\"{metric.capitalize()} is\", len(result))\n",
      "C:\\Users\\FurkanBulut\\anaconda3\\envs\\SolarVizyon\\Lib\\site-packages\\sklearn\\metrics\\_classification.py:1509: UndefinedMetricWarning: Recall is ill-defined and being set to 0.0 in labels with no true samples. Use `zero_division` parameter to control this behavior.\n",
      "  _warn_prf(average, modifier, f\"{metric.capitalize()} is\", len(result))\n"
     ]
    }
   ],
   "source": [
    "from sklearn.metrics import classification_report\n",
    "print(classification_report(train['label'],train['prediction']))"
   ],
   "metadata": {
    "collapsed": false,
    "ExecuteTime": {
     "end_time": "2024-04-09T16:37:32.472035700Z",
     "start_time": "2024-04-09T16:37:31.611218800Z"
    }
   },
   "id": "8d75cbc6c246a768"
  },
  {
   "cell_type": "code",
   "execution_count": 45,
   "outputs": [
    {
     "name": "stdout",
     "output_type": "stream",
     "text": [
      "              precision    recall  f1-score   support\n",
      "\n",
      "          C:       0.00      0.00      0.00     169.0\n",
      "       clean       0.00      0.00      0.00       0.0\n",
      "       dirty       0.00      0.00      0.00       0.0\n",
      "\n",
      "    accuracy                           0.00     169.0\n",
      "   macro avg       0.00      0.00      0.00     169.0\n",
      "weighted avg       0.00      0.00      0.00     169.0\n"
     ]
    },
    {
     "name": "stderr",
     "output_type": "stream",
     "text": [
      "C:\\Users\\FurkanBulut\\anaconda3\\envs\\SolarVizyon\\Lib\\site-packages\\sklearn\\metrics\\_classification.py:1509: UndefinedMetricWarning: Precision is ill-defined and being set to 0.0 in labels with no predicted samples. Use `zero_division` parameter to control this behavior.\n",
      "  _warn_prf(average, modifier, f\"{metric.capitalize()} is\", len(result))\n",
      "C:\\Users\\FurkanBulut\\anaconda3\\envs\\SolarVizyon\\Lib\\site-packages\\sklearn\\metrics\\_classification.py:1509: UndefinedMetricWarning: Recall is ill-defined and being set to 0.0 in labels with no true samples. Use `zero_division` parameter to control this behavior.\n",
      "  _warn_prf(average, modifier, f\"{metric.capitalize()} is\", len(result))\n",
      "C:\\Users\\FurkanBulut\\anaconda3\\envs\\SolarVizyon\\Lib\\site-packages\\sklearn\\metrics\\_classification.py:1509: UndefinedMetricWarning: Precision is ill-defined and being set to 0.0 in labels with no predicted samples. Use `zero_division` parameter to control this behavior.\n",
      "  _warn_prf(average, modifier, f\"{metric.capitalize()} is\", len(result))\n",
      "C:\\Users\\FurkanBulut\\anaconda3\\envs\\SolarVizyon\\Lib\\site-packages\\sklearn\\metrics\\_classification.py:1509: UndefinedMetricWarning: Recall is ill-defined and being set to 0.0 in labels with no true samples. Use `zero_division` parameter to control this behavior.\n",
      "  _warn_prf(average, modifier, f\"{metric.capitalize()} is\", len(result))\n",
      "C:\\Users\\FurkanBulut\\anaconda3\\envs\\SolarVizyon\\Lib\\site-packages\\sklearn\\metrics\\_classification.py:1509: UndefinedMetricWarning: Precision is ill-defined and being set to 0.0 in labels with no predicted samples. Use `zero_division` parameter to control this behavior.\n",
      "  _warn_prf(average, modifier, f\"{metric.capitalize()} is\", len(result))\n",
      "C:\\Users\\FurkanBulut\\anaconda3\\envs\\SolarVizyon\\Lib\\site-packages\\sklearn\\metrics\\_classification.py:1509: UndefinedMetricWarning: Recall is ill-defined and being set to 0.0 in labels with no true samples. Use `zero_division` parameter to control this behavior.\n",
      "  _warn_prf(average, modifier, f\"{metric.capitalize()} is\", len(result))\n"
     ]
    }
   ],
   "source": [
    "print(classification_report(test['label'],test['prediction']))"
   ],
   "metadata": {
    "collapsed": false,
    "ExecuteTime": {
     "end_time": "2024-04-09T16:37:35.716600800Z",
     "start_time": "2024-04-09T16:37:35.712856700Z"
    }
   },
   "id": "45878dd57ff99e7d"
  },
  {
   "cell_type": "code",
   "execution_count": 51,
   "outputs": [],
   "source": [
    "model = tf.saved_model.load('C:/Users/FurkanBulut/PycharmProjects/SolarVizyon/datasets/MobileNet')\n"
   ],
   "metadata": {
    "collapsed": false,
    "ExecuteTime": {
     "end_time": "2024-04-09T16:40:21.144558Z",
     "start_time": "2024-04-09T16:40:18.707801700Z"
    }
   },
   "id": "9e0d597c23fe8eea"
  }
 ],
 "metadata": {
  "kernelspec": {
   "display_name": "Python 3",
   "language": "python",
   "name": "python3"
  },
  "language_info": {
   "codemirror_mode": {
    "name": "ipython",
    "version": 2
   },
   "file_extension": ".py",
   "mimetype": "text/x-python",
   "name": "python",
   "nbconvert_exporter": "python",
   "pygments_lexer": "ipython2",
   "version": "2.7.6"
  }
 },
 "nbformat": 4,
 "nbformat_minor": 5
}
